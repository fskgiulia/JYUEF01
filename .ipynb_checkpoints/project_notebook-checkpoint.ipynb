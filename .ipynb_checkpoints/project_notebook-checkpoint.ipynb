{
 "cells": [
  {
   "cell_type": "code",
   "execution_count": 10,
   "id": "101bc482",
   "metadata": {
    "scrolled": true
   },
   "outputs": [
    {
     "name": "stdout",
     "output_type": "stream",
     "text": [
      "150 1055 7594\n",
      "2019-08-07 10:15:00 2020-01-29 14:11:00\n"
     ]
    }
   ],
   "source": [
    "import pandas as pd\n",
    "import matplotlib.pyplot as plt\n",
    "\n",
    "df = pd.read_csv(\"harjoitustyondata.csv\", sep=\";\")\n",
    "# Turning time into a datetime object\n",
    "df['Aika'] = pd.to_datetime(df['Aika'], format='%d.%m.%Y %H:%M')\n",
    "\n",
    "# Getting information about students\n",
    "students = df.Pisteet.unique()\n",
    "max_score =  max(students)\n",
    "print(len(students), min(students), max(students))\n",
    "course_start = df['Aika'].min()\n",
    "course_end = df['Aika'].max()\n",
    "print(course_start, course_end)\n",
    "\n",
    "# To make things easier, let's collect the students into a dictionary, \n",
    "# where the points are the key to a list of all the student's timestamps\n",
    "student_dict = {}\n",
    "for student in students:\n",
    "    student_info = df.loc[df['Pisteet'] == student]\n",
    "    timestamp_list = student_info['Aika'].tolist()\n",
    "    student_dict[student] = timestamp_list\n",
    "\n",
    "score_student_mapping = {score: f\"{idx+1}\" for idx, score in enumerate(df['Pisteet'].unique())}\n",
    "df['student_id'] = df['Pisteet'].map(score_student_mapping)"
   ]
  },
  {
   "cell_type": "code",
   "execution_count": 3,
   "id": "a0ecf6a9",
   "metadata": {},
   "outputs": [
    {
     "data": {
      "text/html": [
       "<div>\n",
       "<style scoped>\n",
       "    .dataframe tbody tr th:only-of-type {\n",
       "        vertical-align: middle;\n",
       "    }\n",
       "\n",
       "    .dataframe tbody tr th {\n",
       "        vertical-align: top;\n",
       "    }\n",
       "\n",
       "    .dataframe thead th {\n",
       "        text-align: right;\n",
       "    }\n",
       "</style>\n",
       "<table border=\"1\" class=\"dataframe\">\n",
       "  <thead>\n",
       "    <tr style=\"text-align: right;\">\n",
       "      <th></th>\n",
       "      <th>Aika</th>\n",
       "      <th>Pisteet</th>\n",
       "      <th>student_id</th>\n",
       "    </tr>\n",
       "  </thead>\n",
       "  <tbody>\n",
       "    <tr>\n",
       "      <th>0</th>\n",
       "      <td>2019-08-07 14:56:00</td>\n",
       "      <td>1055</td>\n",
       "      <td>1</td>\n",
       "    </tr>\n",
       "    <tr>\n",
       "      <th>1</th>\n",
       "      <td>2019-08-07 14:56:00</td>\n",
       "      <td>1055</td>\n",
       "      <td>1</td>\n",
       "    </tr>\n",
       "    <tr>\n",
       "      <th>2</th>\n",
       "      <td>2019-08-07 14:56:00</td>\n",
       "      <td>1055</td>\n",
       "      <td>1</td>\n",
       "    </tr>\n",
       "    <tr>\n",
       "      <th>3</th>\n",
       "      <td>2019-08-07 14:54:00</td>\n",
       "      <td>1055</td>\n",
       "      <td>1</td>\n",
       "    </tr>\n",
       "    <tr>\n",
       "      <th>4</th>\n",
       "      <td>2019-08-07 14:54:00</td>\n",
       "      <td>1055</td>\n",
       "      <td>1</td>\n",
       "    </tr>\n",
       "    <tr>\n",
       "      <th>...</th>\n",
       "      <td>...</td>\n",
       "      <td>...</td>\n",
       "      <td>...</td>\n",
       "    </tr>\n",
       "    <tr>\n",
       "      <th>6784</th>\n",
       "      <td>2019-10-14 12:48:00</td>\n",
       "      <td>7594</td>\n",
       "      <td>150</td>\n",
       "    </tr>\n",
       "    <tr>\n",
       "      <th>6785</th>\n",
       "      <td>2019-10-14 12:44:00</td>\n",
       "      <td>7594</td>\n",
       "      <td>150</td>\n",
       "    </tr>\n",
       "    <tr>\n",
       "      <th>6786</th>\n",
       "      <td>2019-10-14 12:44:00</td>\n",
       "      <td>7594</td>\n",
       "      <td>150</td>\n",
       "    </tr>\n",
       "    <tr>\n",
       "      <th>6787</th>\n",
       "      <td>2019-10-14 12:44:00</td>\n",
       "      <td>7594</td>\n",
       "      <td>150</td>\n",
       "    </tr>\n",
       "    <tr>\n",
       "      <th>6788</th>\n",
       "      <td>2019-09-16 19:59:00</td>\n",
       "      <td>7594</td>\n",
       "      <td>150</td>\n",
       "    </tr>\n",
       "  </tbody>\n",
       "</table>\n",
       "<p>6789 rows × 3 columns</p>\n",
       "</div>"
      ],
      "text/plain": [
       "                    Aika  Pisteet student_id\n",
       "0    2019-08-07 14:56:00     1055          1\n",
       "1    2019-08-07 14:56:00     1055          1\n",
       "2    2019-08-07 14:56:00     1055          1\n",
       "3    2019-08-07 14:54:00     1055          1\n",
       "4    2019-08-07 14:54:00     1055          1\n",
       "...                  ...      ...        ...\n",
       "6784 2019-10-14 12:48:00     7594        150\n",
       "6785 2019-10-14 12:44:00     7594        150\n",
       "6786 2019-10-14 12:44:00     7594        150\n",
       "6787 2019-10-14 12:44:00     7594        150\n",
       "6788 2019-09-16 19:59:00     7594        150\n",
       "\n",
       "[6789 rows x 3 columns]"
      ]
     },
     "execution_count": 3,
     "metadata": {},
     "output_type": "execute_result"
    }
   ],
   "source": [
    "df"
   ]
  },
  {
   "cell_type": "markdown",
   "id": "f855dbe3",
   "metadata": {},
   "source": [
    "Above we are sorting the data. The data is first turned into a Pandas DataFrame.\n",
    "In the dataset, we have 150 different students, whose score range from 1055 points to 7594 points.\n",
    "The first entry was 7.8.2019 and the last 29.1.2020, so we are assuming this is the duration of the course. \n",
    "This would mean that the course was active for about 6 months. \n",
    "\n",
    "Below we can see that the point distribution is a bit unusual. Most of the students collected very high scores. The median value is 6945, marked red in the graph below."
   ]
  },
  {
   "cell_type": "code",
   "execution_count": 11,
   "id": "1a1924a8",
   "metadata": {},
   "outputs": [
    {
     "data": {
      "image/png": "[encoded data removed]",
      "text/plain": [
       "<Figure size 640x480 with 1 Axes>"
      ]
     },
     "metadata": {},
     "output_type": "display_data"
    }
   ],
   "source": [
    "import statistics\n",
    "\n",
    "median = statistics.median(students)\n",
    "\n",
    "plt.hist(students, bins=60, color='skyblue', edgecolor='black')\n",
    "plt.title('Distribution of points')\n",
    "plt.vlines(x=median, ymin=0, ymax=20, color=\"red\", label=\"Median\")\n",
    "plt.legend()\n",
    "plt.show()"
   ]
  },
  {
   "cell_type": "markdown",
   "id": "aa6408b0",
   "metadata": {},
   "source": [
    "Based on this (and what G has done below), we can roughly divide the scores into three categories: \n",
    "\n",
    "* score < 6500\n",
    "* 6500 < score < 7000\n",
    "* score > 7000\n",
    "\n",
    "Let's do some digging with the data, and see if we can come up with some rules(_or classifications? what they called_) for the decision tree thingaling \n",
    "\n",
    "\n",
    "# Hypothesis\n",
    "- more active days &rarr; better score\n",
    "- more logs &rarr; better score\n",
    "- being consistently active &rarr; better score\n",
    "- maybe the time of day spent working on the course has an effect on grades?\n",
    "\n"
   ]
  },
  {
   "cell_type": "code",
   "execution_count": 12,
   "id": "35ca5f4d",
   "metadata": {},
   "outputs": [],
   "source": [
    "import matplotlib.pyplot as plt\n",
    "import numpy as np\n",
    "\n",
    "# Extracting data\n",
    "# The time each student took to complete the course, rounded down\n",
    "times = [(max(student_dict[s]) - min(student_dict[s])).total_seconds() / (60*60*24) + 1 for s in students]\n",
    "\n",
    "# The number of different timestamps, i.e. the number of logs in total done by the student\n",
    "logs = [len(student_dict[s]) for s in students]\n",
    "\n",
    "# Finding out on how many different days a student worked on the course\n",
    "dates = []\n",
    "all_working_hours = [] #  time of day student tends to work, morning/day/night\n",
    "pref_work_time = [] # 0 = morning, 1 = day, 2 = night\n",
    "for s in students:  \n",
    "    # Taking just the dates from timestamps, \n",
    "    # turning them into strings and to get only the unique values, turn the list into set\n",
    "    uniq_dates = set([ str(d.date()) for d in student_dict[s]])\n",
    "    # Append it as a list, \n",
    "    dates.append(len(uniq_dates)) \n",
    "    \n",
    "    # Take the hour of the timesstamps and log it (morning: 6-12, day: 12-19, night: rest of the time)\n",
    "    morning, day, night = 0, 0, 0\n",
    "    hours = [(d.time().hour) for d in student_dict[s]]\n",
    "    for hour in hours:\n",
    "        if hour >= 6 and hour < 12:\n",
    "            morning = morning + 1\n",
    "        elif hour >= 12 and hour < 19:\n",
    "            day = day + 1\n",
    "        else: \n",
    "            night = night + 1\n",
    "    # Here just collecting the data\n",
    "    l = [morning, day, night]\n",
    "    all_working_hours.append(l)\n",
    "    # Finding out which index is the biggest to find out when student works the most\n",
    "    # This is very inelegant, could be done better but let's see if there's something to it.\n",
    "    m = max(l)\n",
    "    pref_work_time.append(l.index(m))\n",
    "\n"
   ]
  },
  {
   "cell_type": "code",
   "execution_count": 13,
   "id": "2be77eaa",
   "metadata": {},
   "outputs": [],
   "source": [
    "# Here's a new dataframe for seaborn plotting.\n",
    "# logs means the amount of logs,\n",
    "# comp_t means the difference between last and first log, i.e. the course completion time\n",
    "# log_days is the amount of days that logging has been done\n",
    "# pref_work_t is the time of the day (morning, day, night) student has most time stamp logs\n",
    "data = {\"score\": students, \"logs\": logs, \"comp_t\": times, \"log_days\":dates, \"pref_work_t\": pref_work_time }\n",
    "df_new = pd.DataFrame(data)"
   ]
  },
  {
   "cell_type": "code",
   "execution_count": 14,
   "id": "d4bb4589",
   "metadata": {},
   "outputs": [
    {
     "data": {
      "text/html": [
       "<div>\n",
       "<style scoped>\n",
       "    .dataframe tbody tr th:only-of-type {\n",
       "        vertical-align: middle;\n",
       "    }\n",
       "\n",
       "    .dataframe tbody tr th {\n",
       "        vertical-align: top;\n",
       "    }\n",
       "\n",
       "    .dataframe thead th {\n",
       "        text-align: right;\n",
       "    }\n",
       "</style>\n",
       "<table border=\"1\" class=\"dataframe\">\n",
       "  <thead>\n",
       "    <tr style=\"text-align: right;\">\n",
       "      <th></th>\n",
       "      <th>score</th>\n",
       "      <th>logs</th>\n",
       "      <th>comp_t</th>\n",
       "      <th>log_days</th>\n",
       "      <th>pref_work_t</th>\n",
       "    </tr>\n",
       "  </thead>\n",
       "  <tbody>\n",
       "    <tr>\n",
       "      <th>0</th>\n",
       "      <td>1055</td>\n",
       "      <td>21</td>\n",
       "      <td>1.195139</td>\n",
       "      <td>1</td>\n",
       "      <td>1</td>\n",
       "    </tr>\n",
       "    <tr>\n",
       "      <th>1</th>\n",
       "      <td>1663</td>\n",
       "      <td>1</td>\n",
       "      <td>1.000000</td>\n",
       "      <td>1</td>\n",
       "      <td>2</td>\n",
       "    </tr>\n",
       "    <tr>\n",
       "      <th>2</th>\n",
       "      <td>2325</td>\n",
       "      <td>1</td>\n",
       "      <td>1.000000</td>\n",
       "      <td>1</td>\n",
       "      <td>0</td>\n",
       "    </tr>\n",
       "    <tr>\n",
       "      <th>3</th>\n",
       "      <td>3284</td>\n",
       "      <td>1</td>\n",
       "      <td>1.000000</td>\n",
       "      <td>1</td>\n",
       "      <td>0</td>\n",
       "    </tr>\n",
       "    <tr>\n",
       "      <th>4</th>\n",
       "      <td>3810</td>\n",
       "      <td>4</td>\n",
       "      <td>1.000000</td>\n",
       "      <td>1</td>\n",
       "      <td>1</td>\n",
       "    </tr>\n",
       "    <tr>\n",
       "      <th>...</th>\n",
       "      <td>...</td>\n",
       "      <td>...</td>\n",
       "      <td>...</td>\n",
       "      <td>...</td>\n",
       "      <td>...</td>\n",
       "    </tr>\n",
       "    <tr>\n",
       "      <th>145</th>\n",
       "      <td>7542</td>\n",
       "      <td>31</td>\n",
       "      <td>62.803472</td>\n",
       "      <td>6</td>\n",
       "      <td>2</td>\n",
       "    </tr>\n",
       "    <tr>\n",
       "      <th>146</th>\n",
       "      <td>7547</td>\n",
       "      <td>76</td>\n",
       "      <td>75.817361</td>\n",
       "      <td>7</td>\n",
       "      <td>1</td>\n",
       "    </tr>\n",
       "    <tr>\n",
       "      <th>147</th>\n",
       "      <td>7572</td>\n",
       "      <td>93</td>\n",
       "      <td>19.234028</td>\n",
       "      <td>7</td>\n",
       "      <td>2</td>\n",
       "    </tr>\n",
       "    <tr>\n",
       "      <th>148</th>\n",
       "      <td>7588</td>\n",
       "      <td>26</td>\n",
       "      <td>2.040972</td>\n",
       "      <td>2</td>\n",
       "      <td>2</td>\n",
       "    </tr>\n",
       "    <tr>\n",
       "      <th>149</th>\n",
       "      <td>7594</td>\n",
       "      <td>33</td>\n",
       "      <td>28.756944</td>\n",
       "      <td>2</td>\n",
       "      <td>1</td>\n",
       "    </tr>\n",
       "  </tbody>\n",
       "</table>\n",
       "<p>150 rows × 5 columns</p>\n",
       "</div>"
      ],
      "text/plain": [
       "     score  logs     comp_t  log_days  pref_work_t\n",
       "0     1055    21   1.195139         1            1\n",
       "1     1663     1   1.000000         1            2\n",
       "2     2325     1   1.000000         1            0\n",
       "3     3284     1   1.000000         1            0\n",
       "4     3810     4   1.000000         1            1\n",
       "..     ...   ...        ...       ...          ...\n",
       "145   7542    31  62.803472         6            2\n",
       "146   7547    76  75.817361         7            1\n",
       "147   7572    93  19.234028         7            2\n",
       "148   7588    26   2.040972         2            2\n",
       "149   7594    33  28.756944         2            1\n",
       "\n",
       "[150 rows x 5 columns]"
      ]
     },
     "execution_count": 14,
     "metadata": {},
     "output_type": "execute_result"
    }
   ],
   "source": [
    "df_new"
   ]
  },
  {
   "cell_type": "code",
   "execution_count": 15,
   "id": "a0937383",
   "metadata": {},
   "outputs": [
    {
     "data": {
      "image/png": "[encoded data removed]",
      "text/plain": [
       "<Figure size 1000x1000 with 4 Axes>"
      ]
     },
     "metadata": {},
     "output_type": "display_data"
    }
   ],
   "source": [
    "# Actual plotting \n",
    "import seaborn as sns\n",
    "\n",
    "fig, ((ax1, ax2), (ax3, ax4)) = plt.subplots(2, 2, figsize=(10,10))\n",
    "\n",
    "times_arr = np.array(times) # course completion time\n",
    "logs_arr = np.array(logs) # amount of logs\n",
    "students_arr = np.array(students) # scores\n",
    "dates_arr = np.array(dates) # active days\n",
    "\n",
    "# for regression models\n",
    "time_slope, time_intercept = np.polyfit(times_arr, students_arr, 1)\n",
    "logs_slope, logs_intercept = np.polyfit(logs_arr, students_arr, 1)\n",
    "dates_slope, dates_intercept = np.polyfit(dates_arr, students_arr, 1)\n",
    "\n",
    "# Graph on top left\n",
    "sns.scatterplot(x=dates_arr,\n",
    "                y=\"score\",\n",
    "                hue=\"logs\",\n",
    "                ax=ax1,\n",
    "                data=df_new)\n",
    "ax1.hlines(y=max_score * 0.5, xmin=0, xmax=15)\n",
    "ax1.hlines(y=max_score * 0.8, xmin=0, xmax=15)\n",
    "ax1.set_xlabel('Active days')\n",
    "ax1.set_ylabel('Score')\n",
    "\n",
    "# Top right\n",
    "sns.scatterplot(x=\"logs\",\n",
    "                    y=\"score\",\n",
    "                    hue=\"pref_work_t\",\n",
    "                    ax=ax2,\n",
    "                    data=df_new)\n",
    "ax2.hlines(y=max_score * 0.5, xmin=0, xmax=120)\n",
    "ax2.hlines(y=max_score * 0.8, xmin=0, xmax=120)\n",
    "ax2.set_ylabel('Score')\n",
    "ax2.set_xlabel('Total amount of logs')\n",
    "ax2.legend(title='Morning/day/night')\n",
    "\n",
    "\n",
    "sns.scatterplot(x=times_arr,\n",
    "                    y=\"score\",\n",
    "                    hue=\"logs\",\n",
    "                    ax=ax3,\n",
    "                    data=df_new)\n",
    "                    #, palette=\"Blues\")\n",
    "ax3.hlines(y=max_score * 0.5, xmin=0, xmax=100)\n",
    "ax3.hlines(y=max_score * 0.8, xmin=0, xmax=100)\n",
    "ax3.set_xlabel('Completion time in days')\n",
    "ax3.set_ylabel('Score')\n",
    "ax3.legend(title='Logs')\n",
    "    \n",
    "sns.scatterplot(x=logs_arr/dates_arr,\n",
    "                    y=\"score\",\n",
    "                    hue=\"logs\",\n",
    "                    ax=ax4,\n",
    "                    data=df_new)\n",
    "                    #, palette=\"Blues\")\n",
    "\n",
    "ax4.hlines(y=max_score * 0.5, xmin=0, xmax=50)\n",
    "ax4.hlines(y=max_score * 0.8, xmin=0, xmax=50)\n",
    "ax4.set_xlabel('Average logs/active days')\n",
    "ax4.set_ylabel('Score')\n",
    "ax4.legend(title='Logs')\n",
    "\n",
    "plt.show()"
   ]
  },
  {
   "cell_type": "markdown",
   "id": "698c960a",
   "metadata": {},
   "source": [
    "# Filtering\n",
    "Here trying to filter the data a bit in order to make the algorithms predict scores better.\n",
    "Removing from the database the students who completed the course with very high points (estimated grade 3 or above), since it seems unlikely that is possible in real life. Something hinky is going on there, so let's see what happens.\n",
    "\n",
    "A very conservative reasoning for the numbers: let's assume this course is worth (at least) 1 credit, meaning an average student would take (at least) 27 hours of work, and let's say that amount of hours will get the student a grade 5. Let's be generous and assume the student can work 10 hours/day effectively, it would take about 2-3 days of active work to complete the course. (Here assuming most of the coursework happens within the LMS and therefore would leave a footprint of the action, i.e. a log.) Based on this it wouldn't be likely that the average student would get a high grade with less than 2-3 days of active work. Therefore, removing those entries that have gotten a score 3, 4 or 5 with only two days (or less) active work. \n",
    "\n",
    "Note: Not filtering out those who have gotten a low score with a couple active days, that seems more plausible. We do not wish to overfilter the data.\n",
    "\n",
    "Before filtering, need to make the grade_category column"
   ]
  },
  {
   "cell_type": "code",
   "execution_count": null,
   "id": "c44644bf",
   "metadata": {},
   "outputs": [],
   "source": [
    "# Trying another way of categorizing, maybe will get better results?\n",
    "def categorize_alternative(x):\n",
    "    if x >= max_score * 0.9: # this would be a 5\n",
    "        return 5\n",
    "    elif x >= max_score * 0.8:\n",
    "        return 4\n",
    "    elif x >= max_score * 0.7:\n",
    "        return 3\n",
    "    elif x >= max_score * 0.6:\n",
    "        return 2\n",
    "    elif x >= max_score * 0.5:\n",
    "        return 1\n",
    "    else:\n",
    "        return 0\n",
    "\n",
    "# The grade based estimation is more precise than the divide into three same size units\n",
    "# Here adding a new column for the score estimation categories\n",
    "df_new['score_category'] = df_new['score'].apply(categorize_alternative)"
   ]
  },
  {
   "cell_type": "code",
   "execution_count": 17,
   "id": "32ac3f38",
   "metadata": {},
   "outputs": [
    {
     "ename": "UndefinedVariableError",
     "evalue": "name 'score_category' is not defined",
     "output_type": "error",
     "traceback": [
      "\u001b[1;31m---------------------------------------------------------------------------\u001b[0m",
      "\u001b[1;31mKeyError\u001b[0m                                  Traceback (most recent call last)",
      "File \u001b[1;32m~\\anaconda3\\Lib\\site-packages\\pandas\\core\\computation\\scope.py:233\u001b[0m, in \u001b[0;36mScope.resolve\u001b[1;34m(self, key, is_local)\u001b[0m\n\u001b[0;32m    232\u001b[0m \u001b[38;5;28;01mif\u001b[39;00m \u001b[38;5;28mself\u001b[39m\u001b[38;5;241m.\u001b[39mhas_resolvers:\n\u001b[1;32m--> 233\u001b[0m     \u001b[38;5;28;01mreturn\u001b[39;00m \u001b[38;5;28mself\u001b[39m\u001b[38;5;241m.\u001b[39mresolvers[key]\n\u001b[0;32m    235\u001b[0m \u001b[38;5;66;03m# if we're here that means that we have no locals and we also have\u001b[39;00m\n\u001b[0;32m    236\u001b[0m \u001b[38;5;66;03m# no resolvers\u001b[39;00m\n",
      "File \u001b[1;32m~\\anaconda3\\Lib\\collections\\__init__.py:1006\u001b[0m, in \u001b[0;36mChainMap.__getitem__\u001b[1;34m(self, key)\u001b[0m\n\u001b[0;32m   1005\u001b[0m         \u001b[38;5;28;01mpass\u001b[39;00m\n\u001b[1;32m-> 1006\u001b[0m \u001b[38;5;28;01mreturn\u001b[39;00m \u001b[38;5;28mself\u001b[39m\u001b[38;5;241m.\u001b[39m\u001b[38;5;21m__missing__\u001b[39m(key)\n",
      "File \u001b[1;32m~\\anaconda3\\Lib\\collections\\__init__.py:998\u001b[0m, in \u001b[0;36mChainMap.__missing__\u001b[1;34m(self, key)\u001b[0m\n\u001b[0;32m    997\u001b[0m \u001b[38;5;28;01mdef\u001b[39;00m \u001b[38;5;21m__missing__\u001b[39m(\u001b[38;5;28mself\u001b[39m, key):\n\u001b[1;32m--> 998\u001b[0m     \u001b[38;5;28;01mraise\u001b[39;00m \u001b[38;5;167;01mKeyError\u001b[39;00m(key)\n",
      "\u001b[1;31mKeyError\u001b[0m: 'score_category'",
      "\nDuring handling of the above exception, another exception occurred:\n",
      "\u001b[1;31mKeyError\u001b[0m                                  Traceback (most recent call last)",
      "File \u001b[1;32m~\\anaconda3\\Lib\\site-packages\\pandas\\core\\computation\\scope.py:244\u001b[0m, in \u001b[0;36mScope.resolve\u001b[1;34m(self, key, is_local)\u001b[0m\n\u001b[0;32m    240\u001b[0m \u001b[38;5;28;01mtry\u001b[39;00m:\n\u001b[0;32m    241\u001b[0m     \u001b[38;5;66;03m# last ditch effort we look in temporaries\u001b[39;00m\n\u001b[0;32m    242\u001b[0m     \u001b[38;5;66;03m# these are created when parsing indexing expressions\u001b[39;00m\n\u001b[0;32m    243\u001b[0m     \u001b[38;5;66;03m# e.g., df[df > 0]\u001b[39;00m\n\u001b[1;32m--> 244\u001b[0m     \u001b[38;5;28;01mreturn\u001b[39;00m \u001b[38;5;28mself\u001b[39m\u001b[38;5;241m.\u001b[39mtemps[key]\n\u001b[0;32m    245\u001b[0m \u001b[38;5;28;01mexcept\u001b[39;00m \u001b[38;5;167;01mKeyError\u001b[39;00m \u001b[38;5;28;01mas\u001b[39;00m err:\n",
      "\u001b[1;31mKeyError\u001b[0m: 'score_category'",
      "\nThe above exception was the direct cause of the following exception:\n",
      "\u001b[1;31mUndefinedVariableError\u001b[0m                    Traceback (most recent call last)",
      "Cell \u001b[1;32mIn[17], line 2\u001b[0m\n\u001b[0;32m      1\u001b[0m \u001b[38;5;66;03m# We wanna delete those who completed the course in one (active) day with a grade better than 3\u001b[39;00m\n\u001b[1;32m----> 2\u001b[0m df_filtered \u001b[38;5;241m=\u001b[39m df_new\u001b[38;5;241m.\u001b[39mquery(\u001b[38;5;124m'\u001b[39m\u001b[38;5;124mnot (log_days <= 2 and score_category >= 3)\u001b[39m\u001b[38;5;124m'\u001b[39m)\n\u001b[0;32m      3\u001b[0m df_filtered\n\u001b[0;32m      5\u001b[0m \u001b[38;5;66;03m# Plotting old and new\u001b[39;00m\n",
      "File \u001b[1;32m~\\anaconda3\\Lib\\site-packages\\pandas\\core\\frame.py:4440\u001b[0m, in \u001b[0;36mDataFrame.query\u001b[1;34m(self, expr, inplace, **kwargs)\u001b[0m\n\u001b[0;32m   4438\u001b[0m kwargs[\u001b[38;5;124m\"\u001b[39m\u001b[38;5;124mlevel\u001b[39m\u001b[38;5;124m\"\u001b[39m] \u001b[38;5;241m=\u001b[39m kwargs\u001b[38;5;241m.\u001b[39mpop(\u001b[38;5;124m\"\u001b[39m\u001b[38;5;124mlevel\u001b[39m\u001b[38;5;124m\"\u001b[39m, \u001b[38;5;241m0\u001b[39m) \u001b[38;5;241m+\u001b[39m \u001b[38;5;241m1\u001b[39m\n\u001b[0;32m   4439\u001b[0m kwargs[\u001b[38;5;124m\"\u001b[39m\u001b[38;5;124mtarget\u001b[39m\u001b[38;5;124m\"\u001b[39m] \u001b[38;5;241m=\u001b[39m \u001b[38;5;28;01mNone\u001b[39;00m\n\u001b[1;32m-> 4440\u001b[0m res \u001b[38;5;241m=\u001b[39m \u001b[38;5;28mself\u001b[39m\u001b[38;5;241m.\u001b[39meval(expr, \u001b[38;5;241m*\u001b[39m\u001b[38;5;241m*\u001b[39mkwargs)\n\u001b[0;32m   4442\u001b[0m \u001b[38;5;28;01mtry\u001b[39;00m:\n\u001b[0;32m   4443\u001b[0m     result \u001b[38;5;241m=\u001b[39m \u001b[38;5;28mself\u001b[39m\u001b[38;5;241m.\u001b[39mloc[res]\n",
      "File \u001b[1;32m~\\anaconda3\\Lib\\site-packages\\pandas\\core\\frame.py:4566\u001b[0m, in \u001b[0;36mDataFrame.eval\u001b[1;34m(self, expr, inplace, **kwargs)\u001b[0m\n\u001b[0;32m   4563\u001b[0m     kwargs[\u001b[38;5;124m\"\u001b[39m\u001b[38;5;124mtarget\u001b[39m\u001b[38;5;124m\"\u001b[39m] \u001b[38;5;241m=\u001b[39m \u001b[38;5;28mself\u001b[39m\n\u001b[0;32m   4564\u001b[0m kwargs[\u001b[38;5;124m\"\u001b[39m\u001b[38;5;124mresolvers\u001b[39m\u001b[38;5;124m\"\u001b[39m] \u001b[38;5;241m=\u001b[39m \u001b[38;5;28mtuple\u001b[39m(kwargs\u001b[38;5;241m.\u001b[39mget(\u001b[38;5;124m\"\u001b[39m\u001b[38;5;124mresolvers\u001b[39m\u001b[38;5;124m\"\u001b[39m, ())) \u001b[38;5;241m+\u001b[39m resolvers\n\u001b[1;32m-> 4566\u001b[0m \u001b[38;5;28;01mreturn\u001b[39;00m _eval(expr, inplace\u001b[38;5;241m=\u001b[39minplace, \u001b[38;5;241m*\u001b[39m\u001b[38;5;241m*\u001b[39mkwargs)\n",
      "File \u001b[1;32m~\\anaconda3\\Lib\\site-packages\\pandas\\core\\computation\\eval.py:336\u001b[0m, in \u001b[0;36meval\u001b[1;34m(expr, parser, engine, local_dict, global_dict, resolvers, level, target, inplace)\u001b[0m\n\u001b[0;32m    327\u001b[0m \u001b[38;5;66;03m# get our (possibly passed-in) scope\u001b[39;00m\n\u001b[0;32m    328\u001b[0m env \u001b[38;5;241m=\u001b[39m ensure_scope(\n\u001b[0;32m    329\u001b[0m     level \u001b[38;5;241m+\u001b[39m \u001b[38;5;241m1\u001b[39m,\n\u001b[0;32m    330\u001b[0m     global_dict\u001b[38;5;241m=\u001b[39mglobal_dict,\n\u001b[1;32m   (...)\u001b[0m\n\u001b[0;32m    333\u001b[0m     target\u001b[38;5;241m=\u001b[39mtarget,\n\u001b[0;32m    334\u001b[0m )\n\u001b[1;32m--> 336\u001b[0m parsed_expr \u001b[38;5;241m=\u001b[39m Expr(expr, engine\u001b[38;5;241m=\u001b[39mengine, parser\u001b[38;5;241m=\u001b[39mparser, env\u001b[38;5;241m=\u001b[39menv)\n\u001b[0;32m    338\u001b[0m \u001b[38;5;28;01mif\u001b[39;00m engine \u001b[38;5;241m==\u001b[39m \u001b[38;5;124m\"\u001b[39m\u001b[38;5;124mnumexpr\u001b[39m\u001b[38;5;124m\"\u001b[39m \u001b[38;5;129;01mand\u001b[39;00m (\n\u001b[0;32m    339\u001b[0m     is_extension_array_dtype(parsed_expr\u001b[38;5;241m.\u001b[39mterms\u001b[38;5;241m.\u001b[39mreturn_type)\n\u001b[0;32m    340\u001b[0m     \u001b[38;5;129;01mor\u001b[39;00m \u001b[38;5;28mgetattr\u001b[39m(parsed_expr\u001b[38;5;241m.\u001b[39mterms, \u001b[38;5;124m\"\u001b[39m\u001b[38;5;124moperand_types\u001b[39m\u001b[38;5;124m\"\u001b[39m, \u001b[38;5;28;01mNone\u001b[39;00m) \u001b[38;5;129;01mis\u001b[39;00m \u001b[38;5;129;01mnot\u001b[39;00m \u001b[38;5;28;01mNone\u001b[39;00m\n\u001b[1;32m   (...)\u001b[0m\n\u001b[0;32m    344\u001b[0m     )\n\u001b[0;32m    345\u001b[0m ):\n\u001b[0;32m    346\u001b[0m     warnings\u001b[38;5;241m.\u001b[39mwarn(\n\u001b[0;32m    347\u001b[0m         \u001b[38;5;124m\"\u001b[39m\u001b[38;5;124mEngine has switched to \u001b[39m\u001b[38;5;124m'\u001b[39m\u001b[38;5;124mpython\u001b[39m\u001b[38;5;124m'\u001b[39m\u001b[38;5;124m because numexpr does not support \u001b[39m\u001b[38;5;124m\"\u001b[39m\n\u001b[0;32m    348\u001b[0m         \u001b[38;5;124m\"\u001b[39m\u001b[38;5;124mextension array dtypes. Please set your engine to python manually.\u001b[39m\u001b[38;5;124m\"\u001b[39m,\n\u001b[0;32m    349\u001b[0m         \u001b[38;5;167;01mRuntimeWarning\u001b[39;00m,\n\u001b[0;32m    350\u001b[0m         stacklevel\u001b[38;5;241m=\u001b[39mfind_stack_level(),\n\u001b[0;32m    351\u001b[0m     )\n",
      "File \u001b[1;32m~\\anaconda3\\Lib\\site-packages\\pandas\\core\\computation\\expr.py:809\u001b[0m, in \u001b[0;36mExpr.__init__\u001b[1;34m(self, expr, engine, parser, env, level)\u001b[0m\n\u001b[0;32m    807\u001b[0m \u001b[38;5;28mself\u001b[39m\u001b[38;5;241m.\u001b[39mparser \u001b[38;5;241m=\u001b[39m parser\n\u001b[0;32m    808\u001b[0m \u001b[38;5;28mself\u001b[39m\u001b[38;5;241m.\u001b[39m_visitor \u001b[38;5;241m=\u001b[39m PARSERS[parser](\u001b[38;5;28mself\u001b[39m\u001b[38;5;241m.\u001b[39menv, \u001b[38;5;28mself\u001b[39m\u001b[38;5;241m.\u001b[39mengine, \u001b[38;5;28mself\u001b[39m\u001b[38;5;241m.\u001b[39mparser)\n\u001b[1;32m--> 809\u001b[0m \u001b[38;5;28mself\u001b[39m\u001b[38;5;241m.\u001b[39mterms \u001b[38;5;241m=\u001b[39m \u001b[38;5;28mself\u001b[39m\u001b[38;5;241m.\u001b[39mparse()\n",
      "File \u001b[1;32m~\\anaconda3\\Lib\\site-packages\\pandas\\core\\computation\\expr.py:828\u001b[0m, in \u001b[0;36mExpr.parse\u001b[1;34m(self)\u001b[0m\n\u001b[0;32m    824\u001b[0m \u001b[38;5;28;01mdef\u001b[39;00m \u001b[38;5;21mparse\u001b[39m(\u001b[38;5;28mself\u001b[39m):\n\u001b[0;32m    825\u001b[0m \u001b[38;5;250m    \u001b[39m\u001b[38;5;124;03m\"\"\"\u001b[39;00m\n\u001b[0;32m    826\u001b[0m \u001b[38;5;124;03m    Parse an expression.\u001b[39;00m\n\u001b[0;32m    827\u001b[0m \u001b[38;5;124;03m    \"\"\"\u001b[39;00m\n\u001b[1;32m--> 828\u001b[0m     \u001b[38;5;28;01mreturn\u001b[39;00m \u001b[38;5;28mself\u001b[39m\u001b[38;5;241m.\u001b[39m_visitor\u001b[38;5;241m.\u001b[39mvisit(\u001b[38;5;28mself\u001b[39m\u001b[38;5;241m.\u001b[39mexpr)\n",
      "File \u001b[1;32m~\\anaconda3\\Lib\\site-packages\\pandas\\core\\computation\\expr.py:415\u001b[0m, in \u001b[0;36mBaseExprVisitor.visit\u001b[1;34m(self, node, **kwargs)\u001b[0m\n\u001b[0;32m    413\u001b[0m method \u001b[38;5;241m=\u001b[39m \u001b[38;5;124mf\u001b[39m\u001b[38;5;124m\"\u001b[39m\u001b[38;5;124mvisit_\u001b[39m\u001b[38;5;132;01m{\u001b[39;00m\u001b[38;5;28mtype\u001b[39m(node)\u001b[38;5;241m.\u001b[39m\u001b[38;5;18m__name__\u001b[39m\u001b[38;5;132;01m}\u001b[39;00m\u001b[38;5;124m\"\u001b[39m\n\u001b[0;32m    414\u001b[0m visitor \u001b[38;5;241m=\u001b[39m \u001b[38;5;28mgetattr\u001b[39m(\u001b[38;5;28mself\u001b[39m, method)\n\u001b[1;32m--> 415\u001b[0m \u001b[38;5;28;01mreturn\u001b[39;00m visitor(node, \u001b[38;5;241m*\u001b[39m\u001b[38;5;241m*\u001b[39mkwargs)\n",
      "File \u001b[1;32m~\\anaconda3\\Lib\\site-packages\\pandas\\core\\computation\\expr.py:421\u001b[0m, in \u001b[0;36mBaseExprVisitor.visit_Module\u001b[1;34m(self, node, **kwargs)\u001b[0m\n\u001b[0;32m    419\u001b[0m     \u001b[38;5;28;01mraise\u001b[39;00m \u001b[38;5;167;01mSyntaxError\u001b[39;00m(\u001b[38;5;124m\"\u001b[39m\u001b[38;5;124monly a single expression is allowed\u001b[39m\u001b[38;5;124m\"\u001b[39m)\n\u001b[0;32m    420\u001b[0m expr \u001b[38;5;241m=\u001b[39m node\u001b[38;5;241m.\u001b[39mbody[\u001b[38;5;241m0\u001b[39m]\n\u001b[1;32m--> 421\u001b[0m \u001b[38;5;28;01mreturn\u001b[39;00m \u001b[38;5;28mself\u001b[39m\u001b[38;5;241m.\u001b[39mvisit(expr, \u001b[38;5;241m*\u001b[39m\u001b[38;5;241m*\u001b[39mkwargs)\n",
      "File \u001b[1;32m~\\anaconda3\\Lib\\site-packages\\pandas\\core\\computation\\expr.py:415\u001b[0m, in \u001b[0;36mBaseExprVisitor.visit\u001b[1;34m(self, node, **kwargs)\u001b[0m\n\u001b[0;32m    413\u001b[0m method \u001b[38;5;241m=\u001b[39m \u001b[38;5;124mf\u001b[39m\u001b[38;5;124m\"\u001b[39m\u001b[38;5;124mvisit_\u001b[39m\u001b[38;5;132;01m{\u001b[39;00m\u001b[38;5;28mtype\u001b[39m(node)\u001b[38;5;241m.\u001b[39m\u001b[38;5;18m__name__\u001b[39m\u001b[38;5;132;01m}\u001b[39;00m\u001b[38;5;124m\"\u001b[39m\n\u001b[0;32m    414\u001b[0m visitor \u001b[38;5;241m=\u001b[39m \u001b[38;5;28mgetattr\u001b[39m(\u001b[38;5;28mself\u001b[39m, method)\n\u001b[1;32m--> 415\u001b[0m \u001b[38;5;28;01mreturn\u001b[39;00m visitor(node, \u001b[38;5;241m*\u001b[39m\u001b[38;5;241m*\u001b[39mkwargs)\n",
      "File \u001b[1;32m~\\anaconda3\\Lib\\site-packages\\pandas\\core\\computation\\expr.py:424\u001b[0m, in \u001b[0;36mBaseExprVisitor.visit_Expr\u001b[1;34m(self, node, **kwargs)\u001b[0m\n\u001b[0;32m    423\u001b[0m \u001b[38;5;28;01mdef\u001b[39;00m \u001b[38;5;21mvisit_Expr\u001b[39m(\u001b[38;5;28mself\u001b[39m, node, \u001b[38;5;241m*\u001b[39m\u001b[38;5;241m*\u001b[39mkwargs):\n\u001b[1;32m--> 424\u001b[0m     \u001b[38;5;28;01mreturn\u001b[39;00m \u001b[38;5;28mself\u001b[39m\u001b[38;5;241m.\u001b[39mvisit(node\u001b[38;5;241m.\u001b[39mvalue, \u001b[38;5;241m*\u001b[39m\u001b[38;5;241m*\u001b[39mkwargs)\n",
      "File \u001b[1;32m~\\anaconda3\\Lib\\site-packages\\pandas\\core\\computation\\expr.py:415\u001b[0m, in \u001b[0;36mBaseExprVisitor.visit\u001b[1;34m(self, node, **kwargs)\u001b[0m\n\u001b[0;32m    413\u001b[0m method \u001b[38;5;241m=\u001b[39m \u001b[38;5;124mf\u001b[39m\u001b[38;5;124m\"\u001b[39m\u001b[38;5;124mvisit_\u001b[39m\u001b[38;5;132;01m{\u001b[39;00m\u001b[38;5;28mtype\u001b[39m(node)\u001b[38;5;241m.\u001b[39m\u001b[38;5;18m__name__\u001b[39m\u001b[38;5;132;01m}\u001b[39;00m\u001b[38;5;124m\"\u001b[39m\n\u001b[0;32m    414\u001b[0m visitor \u001b[38;5;241m=\u001b[39m \u001b[38;5;28mgetattr\u001b[39m(\u001b[38;5;28mself\u001b[39m, method)\n\u001b[1;32m--> 415\u001b[0m \u001b[38;5;28;01mreturn\u001b[39;00m visitor(node, \u001b[38;5;241m*\u001b[39m\u001b[38;5;241m*\u001b[39mkwargs)\n",
      "File \u001b[1;32m~\\anaconda3\\Lib\\site-packages\\pandas\\core\\computation\\expr.py:544\u001b[0m, in \u001b[0;36mBaseExprVisitor.visit_UnaryOp\u001b[1;34m(self, node, **kwargs)\u001b[0m\n\u001b[0;32m    542\u001b[0m \u001b[38;5;28;01mdef\u001b[39;00m \u001b[38;5;21mvisit_UnaryOp\u001b[39m(\u001b[38;5;28mself\u001b[39m, node, \u001b[38;5;241m*\u001b[39m\u001b[38;5;241m*\u001b[39mkwargs):\n\u001b[0;32m    543\u001b[0m     op \u001b[38;5;241m=\u001b[39m \u001b[38;5;28mself\u001b[39m\u001b[38;5;241m.\u001b[39mvisit(node\u001b[38;5;241m.\u001b[39mop)\n\u001b[1;32m--> 544\u001b[0m     operand \u001b[38;5;241m=\u001b[39m \u001b[38;5;28mself\u001b[39m\u001b[38;5;241m.\u001b[39mvisit(node\u001b[38;5;241m.\u001b[39moperand)\n\u001b[0;32m    545\u001b[0m     \u001b[38;5;28;01mreturn\u001b[39;00m op(operand)\n",
      "File \u001b[1;32m~\\anaconda3\\Lib\\site-packages\\pandas\\core\\computation\\expr.py:415\u001b[0m, in \u001b[0;36mBaseExprVisitor.visit\u001b[1;34m(self, node, **kwargs)\u001b[0m\n\u001b[0;32m    413\u001b[0m method \u001b[38;5;241m=\u001b[39m \u001b[38;5;124mf\u001b[39m\u001b[38;5;124m\"\u001b[39m\u001b[38;5;124mvisit_\u001b[39m\u001b[38;5;132;01m{\u001b[39;00m\u001b[38;5;28mtype\u001b[39m(node)\u001b[38;5;241m.\u001b[39m\u001b[38;5;18m__name__\u001b[39m\u001b[38;5;132;01m}\u001b[39;00m\u001b[38;5;124m\"\u001b[39m\n\u001b[0;32m    414\u001b[0m visitor \u001b[38;5;241m=\u001b[39m \u001b[38;5;28mgetattr\u001b[39m(\u001b[38;5;28mself\u001b[39m, method)\n\u001b[1;32m--> 415\u001b[0m \u001b[38;5;28;01mreturn\u001b[39;00m visitor(node, \u001b[38;5;241m*\u001b[39m\u001b[38;5;241m*\u001b[39mkwargs)\n",
      "File \u001b[1;32m~\\anaconda3\\Lib\\site-packages\\pandas\\core\\computation\\expr.py:746\u001b[0m, in \u001b[0;36mBaseExprVisitor.visit_BoolOp\u001b[1;34m(self, node, **kwargs)\u001b[0m\n\u001b[0;32m    743\u001b[0m     \u001b[38;5;28;01mreturn\u001b[39;00m \u001b[38;5;28mself\u001b[39m\u001b[38;5;241m.\u001b[39m_maybe_evaluate_binop(op, node\u001b[38;5;241m.\u001b[39mop, lhs, rhs)\n\u001b[0;32m    745\u001b[0m operands \u001b[38;5;241m=\u001b[39m node\u001b[38;5;241m.\u001b[39mvalues\n\u001b[1;32m--> 746\u001b[0m \u001b[38;5;28;01mreturn\u001b[39;00m reduce(visitor, operands)\n",
      "File \u001b[1;32m~\\anaconda3\\Lib\\site-packages\\pandas\\core\\computation\\expr.py:740\u001b[0m, in \u001b[0;36mBaseExprVisitor.visit_BoolOp.<locals>.visitor\u001b[1;34m(x, y)\u001b[0m\n\u001b[0;32m    738\u001b[0m \u001b[38;5;28;01mdef\u001b[39;00m \u001b[38;5;21mvisitor\u001b[39m(x, y):\n\u001b[0;32m    739\u001b[0m     lhs \u001b[38;5;241m=\u001b[39m \u001b[38;5;28mself\u001b[39m\u001b[38;5;241m.\u001b[39m_try_visit_binop(x)\n\u001b[1;32m--> 740\u001b[0m     rhs \u001b[38;5;241m=\u001b[39m \u001b[38;5;28mself\u001b[39m\u001b[38;5;241m.\u001b[39m_try_visit_binop(y)\n\u001b[0;32m    742\u001b[0m     op, op_class, lhs, rhs \u001b[38;5;241m=\u001b[39m \u001b[38;5;28mself\u001b[39m\u001b[38;5;241m.\u001b[39m_maybe_transform_eq_ne(node, lhs, rhs)\n\u001b[0;32m    743\u001b[0m     \u001b[38;5;28;01mreturn\u001b[39;00m \u001b[38;5;28mself\u001b[39m\u001b[38;5;241m.\u001b[39m_maybe_evaluate_binop(op, node\u001b[38;5;241m.\u001b[39mop, lhs, rhs)\n",
      "File \u001b[1;32m~\\anaconda3\\Lib\\site-packages\\pandas\\core\\computation\\expr.py:735\u001b[0m, in \u001b[0;36mBaseExprVisitor._try_visit_binop\u001b[1;34m(self, bop)\u001b[0m\n\u001b[0;32m    733\u001b[0m \u001b[38;5;28;01mif\u001b[39;00m \u001b[38;5;28misinstance\u001b[39m(bop, (Op, Term)):\n\u001b[0;32m    734\u001b[0m     \u001b[38;5;28;01mreturn\u001b[39;00m bop\n\u001b[1;32m--> 735\u001b[0m \u001b[38;5;28;01mreturn\u001b[39;00m \u001b[38;5;28mself\u001b[39m\u001b[38;5;241m.\u001b[39mvisit(bop)\n",
      "File \u001b[1;32m~\\anaconda3\\Lib\\site-packages\\pandas\\core\\computation\\expr.py:415\u001b[0m, in \u001b[0;36mBaseExprVisitor.visit\u001b[1;34m(self, node, **kwargs)\u001b[0m\n\u001b[0;32m    413\u001b[0m method \u001b[38;5;241m=\u001b[39m \u001b[38;5;124mf\u001b[39m\u001b[38;5;124m\"\u001b[39m\u001b[38;5;124mvisit_\u001b[39m\u001b[38;5;132;01m{\u001b[39;00m\u001b[38;5;28mtype\u001b[39m(node)\u001b[38;5;241m.\u001b[39m\u001b[38;5;18m__name__\u001b[39m\u001b[38;5;132;01m}\u001b[39;00m\u001b[38;5;124m\"\u001b[39m\n\u001b[0;32m    414\u001b[0m visitor \u001b[38;5;241m=\u001b[39m \u001b[38;5;28mgetattr\u001b[39m(\u001b[38;5;28mself\u001b[39m, method)\n\u001b[1;32m--> 415\u001b[0m \u001b[38;5;28;01mreturn\u001b[39;00m visitor(node, \u001b[38;5;241m*\u001b[39m\u001b[38;5;241m*\u001b[39mkwargs)\n",
      "File \u001b[1;32m~\\anaconda3\\Lib\\site-packages\\pandas\\core\\computation\\expr.py:719\u001b[0m, in \u001b[0;36mBaseExprVisitor.visit_Compare\u001b[1;34m(self, node, **kwargs)\u001b[0m\n\u001b[0;32m    717\u001b[0m     op \u001b[38;5;241m=\u001b[39m \u001b[38;5;28mself\u001b[39m\u001b[38;5;241m.\u001b[39mtranslate_In(ops[\u001b[38;5;241m0\u001b[39m])\n\u001b[0;32m    718\u001b[0m     binop \u001b[38;5;241m=\u001b[39m ast\u001b[38;5;241m.\u001b[39mBinOp(op\u001b[38;5;241m=\u001b[39mop, left\u001b[38;5;241m=\u001b[39mnode\u001b[38;5;241m.\u001b[39mleft, right\u001b[38;5;241m=\u001b[39mcomps[\u001b[38;5;241m0\u001b[39m])\n\u001b[1;32m--> 719\u001b[0m     \u001b[38;5;28;01mreturn\u001b[39;00m \u001b[38;5;28mself\u001b[39m\u001b[38;5;241m.\u001b[39mvisit(binop)\n\u001b[0;32m    721\u001b[0m \u001b[38;5;66;03m# recursive case: we have a chained comparison, a CMP b CMP c, etc.\u001b[39;00m\n\u001b[0;32m    722\u001b[0m left \u001b[38;5;241m=\u001b[39m node\u001b[38;5;241m.\u001b[39mleft\n",
      "File \u001b[1;32m~\\anaconda3\\Lib\\site-packages\\pandas\\core\\computation\\expr.py:415\u001b[0m, in \u001b[0;36mBaseExprVisitor.visit\u001b[1;34m(self, node, **kwargs)\u001b[0m\n\u001b[0;32m    413\u001b[0m method \u001b[38;5;241m=\u001b[39m \u001b[38;5;124mf\u001b[39m\u001b[38;5;124m\"\u001b[39m\u001b[38;5;124mvisit_\u001b[39m\u001b[38;5;132;01m{\u001b[39;00m\u001b[38;5;28mtype\u001b[39m(node)\u001b[38;5;241m.\u001b[39m\u001b[38;5;18m__name__\u001b[39m\u001b[38;5;132;01m}\u001b[39;00m\u001b[38;5;124m\"\u001b[39m\n\u001b[0;32m    414\u001b[0m visitor \u001b[38;5;241m=\u001b[39m \u001b[38;5;28mgetattr\u001b[39m(\u001b[38;5;28mself\u001b[39m, method)\n\u001b[1;32m--> 415\u001b[0m \u001b[38;5;28;01mreturn\u001b[39;00m visitor(node, \u001b[38;5;241m*\u001b[39m\u001b[38;5;241m*\u001b[39mkwargs)\n",
      "File \u001b[1;32m~\\anaconda3\\Lib\\site-packages\\pandas\\core\\computation\\expr.py:535\u001b[0m, in \u001b[0;36mBaseExprVisitor.visit_BinOp\u001b[1;34m(self, node, **kwargs)\u001b[0m\n\u001b[0;32m    534\u001b[0m \u001b[38;5;28;01mdef\u001b[39;00m \u001b[38;5;21mvisit_BinOp\u001b[39m(\u001b[38;5;28mself\u001b[39m, node, \u001b[38;5;241m*\u001b[39m\u001b[38;5;241m*\u001b[39mkwargs):\n\u001b[1;32m--> 535\u001b[0m     op, op_class, left, right \u001b[38;5;241m=\u001b[39m \u001b[38;5;28mself\u001b[39m\u001b[38;5;241m.\u001b[39m_maybe_transform_eq_ne(node)\n\u001b[0;32m    536\u001b[0m     left, right \u001b[38;5;241m=\u001b[39m \u001b[38;5;28mself\u001b[39m\u001b[38;5;241m.\u001b[39m_maybe_downcast_constants(left, right)\n\u001b[0;32m    537\u001b[0m     \u001b[38;5;28;01mreturn\u001b[39;00m \u001b[38;5;28mself\u001b[39m\u001b[38;5;241m.\u001b[39m_maybe_evaluate_binop(op, op_class, left, right)\n",
      "File \u001b[1;32m~\\anaconda3\\Lib\\site-packages\\pandas\\core\\computation\\expr.py:455\u001b[0m, in \u001b[0;36mBaseExprVisitor._maybe_transform_eq_ne\u001b[1;34m(self, node, left, right)\u001b[0m\n\u001b[0;32m    453\u001b[0m \u001b[38;5;28;01mdef\u001b[39;00m \u001b[38;5;21m_maybe_transform_eq_ne\u001b[39m(\u001b[38;5;28mself\u001b[39m, node, left\u001b[38;5;241m=\u001b[39m\u001b[38;5;28;01mNone\u001b[39;00m, right\u001b[38;5;241m=\u001b[39m\u001b[38;5;28;01mNone\u001b[39;00m):\n\u001b[0;32m    454\u001b[0m     \u001b[38;5;28;01mif\u001b[39;00m left \u001b[38;5;129;01mis\u001b[39;00m \u001b[38;5;28;01mNone\u001b[39;00m:\n\u001b[1;32m--> 455\u001b[0m         left \u001b[38;5;241m=\u001b[39m \u001b[38;5;28mself\u001b[39m\u001b[38;5;241m.\u001b[39mvisit(node\u001b[38;5;241m.\u001b[39mleft, side\u001b[38;5;241m=\u001b[39m\u001b[38;5;124m\"\u001b[39m\u001b[38;5;124mleft\u001b[39m\u001b[38;5;124m\"\u001b[39m)\n\u001b[0;32m    456\u001b[0m     \u001b[38;5;28;01mif\u001b[39;00m right \u001b[38;5;129;01mis\u001b[39;00m \u001b[38;5;28;01mNone\u001b[39;00m:\n\u001b[0;32m    457\u001b[0m         right \u001b[38;5;241m=\u001b[39m \u001b[38;5;28mself\u001b[39m\u001b[38;5;241m.\u001b[39mvisit(node\u001b[38;5;241m.\u001b[39mright, side\u001b[38;5;241m=\u001b[39m\u001b[38;5;124m\"\u001b[39m\u001b[38;5;124mright\u001b[39m\u001b[38;5;124m\"\u001b[39m)\n",
      "File \u001b[1;32m~\\anaconda3\\Lib\\site-packages\\pandas\\core\\computation\\expr.py:415\u001b[0m, in \u001b[0;36mBaseExprVisitor.visit\u001b[1;34m(self, node, **kwargs)\u001b[0m\n\u001b[0;32m    413\u001b[0m method \u001b[38;5;241m=\u001b[39m \u001b[38;5;124mf\u001b[39m\u001b[38;5;124m\"\u001b[39m\u001b[38;5;124mvisit_\u001b[39m\u001b[38;5;132;01m{\u001b[39;00m\u001b[38;5;28mtype\u001b[39m(node)\u001b[38;5;241m.\u001b[39m\u001b[38;5;18m__name__\u001b[39m\u001b[38;5;132;01m}\u001b[39;00m\u001b[38;5;124m\"\u001b[39m\n\u001b[0;32m    414\u001b[0m visitor \u001b[38;5;241m=\u001b[39m \u001b[38;5;28mgetattr\u001b[39m(\u001b[38;5;28mself\u001b[39m, method)\n\u001b[1;32m--> 415\u001b[0m \u001b[38;5;28;01mreturn\u001b[39;00m visitor(node, \u001b[38;5;241m*\u001b[39m\u001b[38;5;241m*\u001b[39mkwargs)\n",
      "File \u001b[1;32m~\\anaconda3\\Lib\\site-packages\\pandas\\core\\computation\\expr.py:548\u001b[0m, in \u001b[0;36mBaseExprVisitor.visit_Name\u001b[1;34m(self, node, **kwargs)\u001b[0m\n\u001b[0;32m    547\u001b[0m \u001b[38;5;28;01mdef\u001b[39;00m \u001b[38;5;21mvisit_Name\u001b[39m(\u001b[38;5;28mself\u001b[39m, node, \u001b[38;5;241m*\u001b[39m\u001b[38;5;241m*\u001b[39mkwargs):\n\u001b[1;32m--> 548\u001b[0m     \u001b[38;5;28;01mreturn\u001b[39;00m \u001b[38;5;28mself\u001b[39m\u001b[38;5;241m.\u001b[39mterm_type(node\u001b[38;5;241m.\u001b[39mid, \u001b[38;5;28mself\u001b[39m\u001b[38;5;241m.\u001b[39menv, \u001b[38;5;241m*\u001b[39m\u001b[38;5;241m*\u001b[39mkwargs)\n",
      "File \u001b[1;32m~\\anaconda3\\Lib\\site-packages\\pandas\\core\\computation\\ops.py:86\u001b[0m, in \u001b[0;36mTerm.__init__\u001b[1;34m(self, name, env, side, encoding)\u001b[0m\n\u001b[0;32m     84\u001b[0m tname \u001b[38;5;241m=\u001b[39m \u001b[38;5;28mstr\u001b[39m(name)\n\u001b[0;32m     85\u001b[0m \u001b[38;5;28mself\u001b[39m\u001b[38;5;241m.\u001b[39mis_local \u001b[38;5;241m=\u001b[39m tname\u001b[38;5;241m.\u001b[39mstartswith(LOCAL_TAG) \u001b[38;5;129;01mor\u001b[39;00m tname \u001b[38;5;129;01min\u001b[39;00m DEFAULT_GLOBALS\n\u001b[1;32m---> 86\u001b[0m \u001b[38;5;28mself\u001b[39m\u001b[38;5;241m.\u001b[39m_value \u001b[38;5;241m=\u001b[39m \u001b[38;5;28mself\u001b[39m\u001b[38;5;241m.\u001b[39m_resolve_name()\n\u001b[0;32m     87\u001b[0m \u001b[38;5;28mself\u001b[39m\u001b[38;5;241m.\u001b[39mencoding \u001b[38;5;241m=\u001b[39m encoding\n",
      "File \u001b[1;32m~\\anaconda3\\Lib\\site-packages\\pandas\\core\\computation\\ops.py:110\u001b[0m, in \u001b[0;36mTerm._resolve_name\u001b[1;34m(self)\u001b[0m\n\u001b[0;32m    105\u001b[0m \u001b[38;5;28;01mif\u001b[39;00m local_name \u001b[38;5;129;01min\u001b[39;00m \u001b[38;5;28mself\u001b[39m\u001b[38;5;241m.\u001b[39menv\u001b[38;5;241m.\u001b[39mscope \u001b[38;5;129;01mand\u001b[39;00m \u001b[38;5;28misinstance\u001b[39m(\n\u001b[0;32m    106\u001b[0m     \u001b[38;5;28mself\u001b[39m\u001b[38;5;241m.\u001b[39menv\u001b[38;5;241m.\u001b[39mscope[local_name], \u001b[38;5;28mtype\u001b[39m\n\u001b[0;32m    107\u001b[0m ):\n\u001b[0;32m    108\u001b[0m     is_local \u001b[38;5;241m=\u001b[39m \u001b[38;5;28;01mFalse\u001b[39;00m\n\u001b[1;32m--> 110\u001b[0m res \u001b[38;5;241m=\u001b[39m \u001b[38;5;28mself\u001b[39m\u001b[38;5;241m.\u001b[39menv\u001b[38;5;241m.\u001b[39mresolve(local_name, is_local\u001b[38;5;241m=\u001b[39mis_local)\n\u001b[0;32m    111\u001b[0m \u001b[38;5;28mself\u001b[39m\u001b[38;5;241m.\u001b[39mupdate(res)\n\u001b[0;32m    113\u001b[0m \u001b[38;5;28;01mif\u001b[39;00m \u001b[38;5;28mhasattr\u001b[39m(res, \u001b[38;5;124m\"\u001b[39m\u001b[38;5;124mndim\u001b[39m\u001b[38;5;124m\"\u001b[39m) \u001b[38;5;129;01mand\u001b[39;00m res\u001b[38;5;241m.\u001b[39mndim \u001b[38;5;241m>\u001b[39m \u001b[38;5;241m2\u001b[39m:\n",
      "File \u001b[1;32m~\\anaconda3\\Lib\\site-packages\\pandas\\core\\computation\\scope.py:246\u001b[0m, in \u001b[0;36mScope.resolve\u001b[1;34m(self, key, is_local)\u001b[0m\n\u001b[0;32m    244\u001b[0m     \u001b[38;5;28;01mreturn\u001b[39;00m \u001b[38;5;28mself\u001b[39m\u001b[38;5;241m.\u001b[39mtemps[key]\n\u001b[0;32m    245\u001b[0m \u001b[38;5;28;01mexcept\u001b[39;00m \u001b[38;5;167;01mKeyError\u001b[39;00m \u001b[38;5;28;01mas\u001b[39;00m err:\n\u001b[1;32m--> 246\u001b[0m     \u001b[38;5;28;01mraise\u001b[39;00m UndefinedVariableError(key, is_local) \u001b[38;5;28;01mfrom\u001b[39;00m \u001b[38;5;21;01merr\u001b[39;00m\n",
      "\u001b[1;31mUndefinedVariableError\u001b[0m: name 'score_category' is not defined"
     ]
    }
   ],
   "source": [
    "# We wanna delete those who completed the course in one (active) day with a grade better than 3\n",
    "\n",
    "df_filtered = df_new.query('not (log_days <= 2 and score_category >= 3)')\n",
    "df_filtered\n",
    "\n",
    "# Plotting old and new\n",
    "fig, (ax1, ax2) = plt.subplots(1, 2, figsize=(10, 5))\n",
    "\n",
    "ax1.hist(students, bins=60, color='skyblue', edgecolor='black')\n",
    "ax1.set_title('Distribution of points (original data)')\n",
    "ax1.vlines(x=median, ymin=0, ymax=20, color=\"red\", label=\"Median\")\n",
    "ax1.legend()\n",
    "\n",
    "students_filtered = df_filtered['score']\n",
    "median_filtered_data = statistics.median(students_filtered)\n",
    "print(median_filtered_data)\n",
    "ax2.hist(students_filtered, bins=60, color='skyblue', edgecolor='black')\n",
    "ax2.set_title('Distribution of points (filtered data)')\n",
    "ax2.vlines(x=median, ymin=0, ymax=15, color=\"red\", label=\"Median\")\n",
    "ax2.legend()\n",
    "plt.show()"
   ]
  },
  {
   "cell_type": "markdown",
   "id": "9d459f3a",
   "metadata": {},
   "source": [
    "As can be seen, the size of the dataframe has reduced. Let's plot the points"
   ]
  },
  {
   "cell_type": "code",
   "execution_count": null,
   "id": "569e6299",
   "metadata": {},
   "outputs": [],
   "source": [
    "# Replotting \n",
    "\n",
    "fig, ((ax1, ax2), (ax3, ax4)) = plt.subplots(2, 2, figsize=(10,10))\n",
    "\n",
    "times_arr = df_filtered['comp_t'].to_numpy() # course completion time\n",
    "logs_arr = df_filtered['logs'].to_numpy() # amount of logs\n",
    "students_arr = df_filtered['score'].to_numpy() # scores\n",
    "dates_arr = df_filtered['log_days'].to_numpy() # active days\n",
    "\n",
    "# for regression models\n",
    "time_slope, time_intercept = np.polyfit(times_arr, students_arr, 1)\n",
    "logs_slope, logs_intercept = np.polyfit(logs_arr, students_arr, 1)\n",
    "dates_slope, dates_intercept = np.polyfit(dates_arr, students_arr, 1)\n",
    "\n",
    "# Graph on top left\n",
    "sns.scatterplot(x=dates_arr,\n",
    "                y=\"score\",\n",
    "                hue=\"logs\",\n",
    "                ax=ax1,\n",
    "                data=df_filtered)\n",
    "ax1.hlines(y=max_score * 0.5, xmin=0, xmax=15)\n",
    "ax1.hlines(y=max_score * 0.8, xmin=0, xmax=15)\n",
    "ax1.set_xlabel('Active days')\n",
    "ax1.set_ylabel('Score')\n",
    "\n",
    "# Top right\n",
    "sns.scatterplot(x=\"logs\",\n",
    "                    y=\"score\",\n",
    "                    hue=\"pref_work_t\",\n",
    "                    ax=ax2,\n",
    "                    data=df_filtered)\n",
    "ax2.hlines(y=max_score * 0.5, xmin=0, xmax=120)\n",
    "ax2.hlines(y=max_score * 0.8, xmin=0, xmax=120)\n",
    "ax2.set_ylabel('Score')\n",
    "ax2.set_xlabel('Total amount of logs')\n",
    "ax2.legend(title='Morning/day/night')\n",
    "\n",
    "\n",
    "sns.scatterplot(x=times_arr,\n",
    "                    y=\"score\",\n",
    "                    hue=\"logs\",\n",
    "                    ax=ax3,\n",
    "                    data=df_filtered)\n",
    "                    #, palette=\"Blues\")\n",
    "ax3.hlines(y=max_score * 0.5, xmin=0, xmax=100)\n",
    "ax3.hlines(y=max_score * 0.8, xmin=0, xmax=100)\n",
    "ax3.set_xlabel('Completion time in days')\n",
    "ax3.set_ylabel('Score')\n",
    "ax3.legend(title='Logs')\n",
    "    \n",
    "sns.scatterplot(x=logs_arr/dates_arr,\n",
    "                    y=\"score\",\n",
    "                    hue=\"logs\",\n",
    "                    ax=ax4,\n",
    "                    data=df_filtered)\n",
    "                    #, palette=\"Blues\")\n",
    "\n",
    "ax4.hlines(y=max_score * 0.5, xmin=0, xmax=50)\n",
    "ax4.hlines(y=max_score * 0.8, xmin=0, xmax=50)\n",
    "ax4.set_xlabel('Average logs/active days')\n",
    "ax4.set_ylabel('Score')\n",
    "ax4.legend(title='Logs')\n",
    "\n",
    "plt.show()"
   ]
  },
  {
   "cell_type": "markdown",
   "id": "78940869",
   "metadata": {},
   "source": [
    "# Things to input into the decision tree\n",
    "\n",
    "Above on the top left we can see that most of the students got very high points, a lot of them in a relatively short time interval. Below some general rules\n",
    " * 4 or more active days &rarr; score at least 6500\n",
    "\n",
    "On the top right, we can see that the amount of logs can vary a lot for the grade. More logs does not necessarily equal better grade. There is distinctin by color, 0 means students logs were mostly mornings, 1 means during daytime and 2 means during night. \n",
    " * 20 logs or less &rarr; score below 6500\n",
    " * working mostly on mornings &rarr; score above 6500 (maybe even above 7000)\n",
    "\n",
    "Bottom left we can see that almost all of the students completed the course with less than 10 days activity logged. If you put in more work, you will likely get a good score. \n",
    "* course completion time at least 20 days &rarr; grade probably above 6500\n",
    "* lots of logs (80-100) &rarr; grade probably over 7000\n",
    "\n",
    "Bottom right: average amount of logs per active days. \n",
    "\n",
    "Add to the database:\n",
    " * active days\n",
    " * preferred working time\n",
    " * amount of logs"
   ]
  },
  {
   "cell_type": "markdown",
   "id": "9f1bf2ea",
   "metadata": {},
   "source": [
    "Now, let's extract for each student ID: the score, the number of clicks that I have for each student and put all in a new dataset"
   ]
  },
  {
   "cell_type": "code",
   "execution_count": null,
   "id": "6c8812b1",
   "metadata": {},
   "outputs": [],
   "source": [
    "student_stats = df.groupby('student_id').agg(\n",
    "    n_recordings=('Aika', 'count'),\n",
    "    score=('Pisteet', 'first')\n",
    "    ).reset_index()\n",
    "\n",
    "student_stats = student_stats.rename(columns={'student_id': 'student_id', 'n_recordings': 'num_recordings', 'score': 'score'})\n",
    "\n",
    "print(student_stats)"
   ]
  },
  {
   "cell_type": "markdown",
   "id": "d6775ec2",
   "metadata": {},
   "source": [
    "We can define the classes for the score, chosen in a way that each class has a relevant number of entries."
   ]
  },
  {
   "cell_type": "code",
   "execution_count": null,
   "id": "ccf320f3",
   "metadata": {},
   "outputs": [],
   "source": [
    "plt.figure(figsize=(10, 6))\n",
    "\n",
    "plt.scatter(student_stats['student_id'], student_stats['score'], color='red', label='Scores')\n",
    "\n",
    "plt.title('Scores')\n",
    "plt.xlabel('Student ID')\n",
    "plt.ylabel('Score')\n",
    "plt.legend()\n",
    "plt.grid(True)\n",
    "plt.show()\n"
   ]
  },
  {
   "cell_type": "markdown",
   "id": "4a8bd862",
   "metadata": {},
   "source": [
    "We can divide the scores in 3 categories:\n",
    "\n",
    "* score < 6500\n",
    "* 6500 < score < 7000\n",
    "* score > 7000"
   ]
  },
  {
   "cell_type": "code",
   "execution_count": null,
   "id": "75a8e087",
   "metadata": {},
   "outputs": [],
   "source": [
    "print(student_stats[student_stats['score'] < 6500]['student_id'].nunique())\n",
    "print(student_stats[(student_stats['score'] >= 6500) & (student_stats['score'] <= 7000)]['student_id'].nunique())\n",
    "print(student_stats[student_stats['score'] > 7000]['student_id'].nunique())"
   ]
  },
  {
   "cell_type": "code",
   "execution_count": null,
   "id": "9f482682",
   "metadata": {},
   "outputs": [],
   "source": [
    "plt.figure(figsize=(10, 6))\n",
    "\n",
    "plt.scatter(student_stats['score'], student_stats['num_recordings'], color='red', label='Scores')\n",
    "\n",
    "plt.title('Scores vs Number of Records')\n",
    "plt.xlabel('Score')\n",
    "plt.ylabel('Number of Records')\n",
    "plt.legend()\n",
    "plt.grid(True)\n",
    "plt.show()"
   ]
  },
  {
   "cell_type": "markdown",
   "id": "d620e117",
   "metadata": {},
   "source": [
    "Now, we want to predict the score class based on the number of clicks and the mean click time. In a decision tree, each node tells to which sub tree the input sample should move until the sub tree is only the leaf node that corresponds to some class."
   ]
  },
  {
   "cell_type": "code",
   "execution_count": null,
   "id": "2f90bee0",
   "metadata": {},
   "outputs": [],
   "source": [
    "# The following is done based on the information found on the page\n",
    "# https://www.datacamp.com/tutorial/decision-tree-classification-python \n",
    "from sklearn.tree import DecisionTreeClassifier \n",
    "from sklearn.model_selection import train_test_split\n",
    "from sklearn import metrics \n",
    "\n",
    "# print(df_new) # Using this for starters with the decision tree\n",
    "\n",
    "# Need to adjust the scoring category --> divide it to three\n",
    "# score less than 6500 --> 0\n",
    "# score between 6500 and 7000 --> 1\n",
    "# score above 7000 --> 2\n",
    "def categorize(x):\n",
    "    if x < 6500:\n",
    "        return 0\n",
    "    elif x >= 7000:\n",
    "        return 2\n",
    "    else:\n",
    "        return 1\n",
    "\n",
    "# Moved all this higher up, score_category used earlier and it's a bitch after restarting the kernel when it's not \"yet defined\"\n",
    "# Trying another way of categorizing, maybe will get better results?\n",
    "# def categorize_alternative(x):\n",
    "#    if x < max_score * 0.5: # rough estimate, below this the grade is 0\n",
    "#         return 0\n",
    "#     elif x >= max_score * 0.9: # this would be a good grade\n",
    "#         return 5\n",
    "#     elif x >= max_score * 0.8:\n",
    "#         return 4\n",
    "#     elif x >= max_score * 0.7:\n",
    "#         return 3\n",
    "#     elif x >= max_score * 0.6:\n",
    "#         return 2\n",
    "#     else:\n",
    "#         return 1 \n",
    "\n",
    "# The grade based estimation is more precise than the divide into three same size units\n",
    "# Here adding a new column for the score estimation categories\n",
    "# df_new['score_category'] = df_new['score'].apply(categorize_alternative)\n",
    "# df_new['score_category'] = df_new['score'].apply(categorize)\n",
    "# df_filtered['score_category'] = df_filtered['score'].apply(categorize_alternative)\n",
    "\n",
    "# print(df_new)\n",
    "print(df_filtered)\n",
    "#split dataset in features and target variable\n",
    "feature_cols = ['logs', 'comp_t', 'log_days', 'pref_work_t' ]\n",
    "X = df_filtered[feature_cols] # Features\n",
    "y = df_filtered.score_category # Target variable\n",
    "\n",
    "# Split dataset into training set and test set\n",
    "# 75% training, 25% test\n",
    "X_train, X_test, y_train, y_test = train_test_split(X, y, test_size=0.25, random_state=1) \n",
    "\n",
    "max_leaf_nodes = 10\n",
    "min_sample_leaf = 10\n",
    "max_depth = 4  # Keeping the depth small seems to lead to better results\n",
    "\n",
    "clf = DecisionTreeClassifier(criterion=\"gini\", \n",
    "                             max_leaf_nodes = max_leaf_nodes,\n",
    "                             min_samples_leaf = min_sample_leaf, \n",
    "                             max_depth= max_depth)\n",
    "\n",
    "clf = clf.fit(X_train,y_train)\n",
    "y_pred = clf.predict(X_test)\n",
    "print(\"Accuracy:\",metrics.accuracy_score(y_test, y_pred))\n",
    "\n",
    "# TODO: Still should visualize maybe\n"
   ]
  },
  {
   "cell_type": "code",
   "execution_count": null,
   "id": "8ce0de35",
   "metadata": {
    "scrolled": true
   },
   "outputs": [],
   "source": [
    "!pip install pydotplus"
   ]
  },
  {
   "cell_type": "code",
   "execution_count": null,
   "id": "3502c373",
   "metadata": {},
   "outputs": [],
   "source": [
    "!pip install pydotplus\n",
    "!pip install graphviz\n",
    "# Might have to go to your environment variables and add the graphviz binaries directory there. Not sure how your system is \n",
    "# configured, hope it works :D Remember to restart the kernel, that tripped me up"
   ]
  },
  {
   "cell_type": "code",
   "execution_count": null,
   "id": "5127f7d6",
   "metadata": {},
   "outputs": [],
   "source": [
    "import graphviz"
   ]
  },
  {
   "cell_type": "code",
   "execution_count": null,
   "id": "1fd33e3f",
   "metadata": {},
   "outputs": [],
   "source": [
    "from six import StringIO \n",
    "from IPython.display import Image  \n",
    "from sklearn.tree import export_graphviz\n",
    "import pydotplus\n",
    "\n",
    "dot_data = StringIO()\n",
    "export_graphviz(clf, out_file=dot_data,  \n",
    "                filled=True, rounded=True,\n",
    "                special_characters=True, feature_names = feature_cols,class_names=['0','1', '2', '3', '4', '5'])\n",
    "graph = pydotplus.graph_from_dot_data(dot_data.getvalue())  \n",
    "graph.write_png('tree.png')\n",
    "Image(graph.create_png())"
   ]
  },
  {
   "cell_type": "markdown",
   "id": "c2658b89",
   "metadata": {},
   "source": [
    " [maybe we can write something like you write:] Looks like we can only determine the the difference between grades 2, 5 and 4. That's not surprising, because the data was so tightly packed in the higher scores and most of the students got scores that would give out a grade 5.\n",
    " \n",
    " Only a few people \"failed\" the course, so they wouldn't even be seen as a leaf node because right now the minimum sample in the leaf is set to 10.\n",
    "\n",
    "\\+ important stuff: we have an accuracy of 0.5 that is not that good\n",
    "\n",
    "\\+ with the filtered data, accuracy is way better, 0.72\n",
    "\n"
   ]
  },
  {
   "cell_type": "code",
   "execution_count": null,
   "id": "3c8cd9ea",
   "metadata": {},
   "outputs": [],
   "source": [
    "feature_cols = ['logs', 'comp_t', 'log_days', 'pref_work_t' ]\n",
    "X = df_new[feature_cols] # Features\n",
    "y = df_new.score_category # Target variable\n",
    "\n",
    "\n",
    "X = df_filtered[feature_cols] # Features\n",
    "y = df_filtered.score_category # Target variable\n",
    "\n",
    "X_train, X_test, y_train, y_test = train_test_split(X, y, test_size=0.2, random_state=1) \n",
    "\n",
    "max_leaf_nodes = 10\n",
    "min_sample_leaf = 10\n",
    "max_depth = 3 # Keeping the depth small seems to lead to better results\n",
    "\n",
    "clf = DecisionTreeClassifier(criterion=\"gini\", \n",
    "                             max_leaf_nodes = max_leaf_nodes,\n",
    "                             min_samples_leaf = min_sample_leaf, \n",
    "                             max_depth= max_depth)\n",
    "\n",
    "clf = clf.fit(X_train,y_train)\n",
    "y_pred = clf.predict(X_test)\n",
    "print(\"Accuracy:\",metrics.accuracy_score(y_test, y_pred))\n",
    "\n",
    "dot_data = StringIO()\n",
    "export_graphviz(clf, out_file=dot_data,  \n",
    "                filled=True, rounded=True,\n",
    "                special_characters=True, feature_names = feature_cols,class_names=['0','1', '2', '3', '4', '5'])\n",
    "graph = pydotplus.graph_from_dot_data(dot_data.getvalue())  \n",
    "graph.write_png('tree.png')\n",
    "Image(graph.create_png())"
   ]
  },
  {
   "cell_type": "code",
   "execution_count": null,
   "id": "92b4d522",
   "metadata": {},
   "outputs": [],
   "source": [
    "df_new"
   ]
  },
  {
   "cell_type": "code",
   "execution_count": null,
   "id": "b4ed978e",
   "metadata": {},
   "outputs": [],
   "source": [
    "df_new"
   ]
  },
  {
   "cell_type": "markdown",
   "id": "fee1837d",
   "metadata": {},
   "source": [
    "A bit of preprocessing"
   ]
  },
  {
   "cell_type": "code",
   "execution_count": null,
   "id": "c4fb497d",
   "metadata": {},
   "outputs": [],
   "source": [
    "# DATA PREPROCESSING\n",
    "\n",
    "# feature scaling - standardization\n",
    "\n",
    "from sklearn.preprocessing import StandardScaler\n",
    "\n",
    "def standardize_columns(df, columns):\n",
    "    scaler = StandardScaler()\n",
    "    df_std = df.copy()\n",
    "    df_std[columns] = scaler.fit_transform(df_std[columns])\n",
    "    \n",
    "    return df_std\n",
    "\n",
    "df_standardized = standardize_columns(df_new, ['logs', 'comp_t', 'log_days', 'pref_work_t'])"
   ]
  },
  {
   "cell_type": "code",
   "execution_count": null,
   "id": "7df69d72",
   "metadata": {},
   "outputs": [],
   "source": [
    "df_standardized"
   ]
  },
  {
   "cell_type": "code",
   "execution_count": null,
   "id": "0587536b",
   "metadata": {},
   "outputs": [],
   "source": [
    "class_distribution=df_standardized['score_category'].value_counts().sort_index()\n",
    "print(class_distribution)"
   ]
  },
  {
   "cell_type": "code",
   "execution_count": null,
   "id": "035da63f",
   "metadata": {},
   "outputs": [],
   "source": [
    "# Class distribution\n",
    "import matplotlib.pyplot as plt\n",
    "\n",
    "plt.figure(figsize=(8, 6))\n",
    "class_distribution.plot(kind='bar', color='skyblue')\n",
    "plt.title('Class Distribution')\n",
    "plt.xlabel('Score Category')\n",
    "plt.ylabel('Count')\n",
    "plt.xticks(rotation=0)\n",
    "plt.show()"
   ]
  },
  {
   "cell_type": "markdown",
   "id": "da3bb105",
   "metadata": {},
   "source": [
    "We have unbalanced classes: accuracy is not the best metric! \n"
   ]
  },
  {
   "cell_type": "code",
   "execution_count": null,
   "id": "9f2e2585",
   "metadata": {},
   "outputs": [],
   "source": [
    "pip install imbalanced-learn scikit-learn"
   ]
  },
  {
   "cell_type": "code",
   "execution_count": null,
   "id": "fa1c92f8",
   "metadata": {},
   "outputs": [],
   "source": [
    "from imblearn.over_sampling import SMOTE\n",
    "from sklearn.model_selection import train_test_split\n",
    "from sklearn.tree import DecisionTreeClassifier\n",
    "from sklearn.metrics import f1_score\n",
    "\n",
    "feature_cols = ['logs', 'comp_t', 'log_days', 'pref_work_t' ]\n",
    "X = df_standardized[feature_cols]\n",
    "y = df_standardized.score_category \n",
    "\n",
    "X_train, X_test, y_train, y_test = train_test_split(X, y, test_size=0.2, random_state=42)\n",
    "\n",
    "smote = SMOTE(k_neighbors=2, sampling_strategy='minority',\n",
    "               random_state=42) # oversampling\n",
    "\n",
    "# oversampling of the training data\n",
    "X_train_resampled, y_train_resampled = smote.fit_resample(X_train, y_train)"
   ]
  },
  {
   "cell_type": "code",
   "execution_count": null,
   "id": "28f3f6f4",
   "metadata": {},
   "outputs": [],
   "source": [
    "max_leaf_nodes = 10\n",
    "min_sample_leaf = int(0.05*len(df_standardized))\n",
    "max_depth = 4\n",
    "\n",
    "clf = DecisionTreeClassifier(criterion=\"log_loss\", \n",
    "                             max_leaf_nodes = max_leaf_nodes,\n",
    "                             min_samples_leaf = min_sample_leaf, \n",
    "                             max_depth= max_depth)\n",
    "\n",
    "clf.fit(X_train_resampled, y_train_resampled)\n",
    "\n",
    "y_pred = clf.predict(X_test)"
   ]
  },
  {
   "cell_type": "code",
   "execution_count": null,
   "id": "80a59b6a",
   "metadata": {},
   "outputs": [],
   "source": [
    "# evaluation metric: F1-score\n",
    "f1 = f1_score(y_test, y_pred, average='micro')\n",
    "print(\"F1-score:\", f1)"
   ]
  },
  {
   "cell_type": "markdown",
   "id": "e13c0038",
   "metadata": {},
   "source": [
    "F1-score is harmonic mean of precision and recall and ranges from 0 to 1, where: 0 indicates poor performance and 1 indicates perfect performance.\n",
    "\n",
    "F1 scores closer to 1 are desirable, indicating a model with high precision and recall."
   ]
  },
  {
   "cell_type": "code",
   "execution_count": null,
   "id": "39156239",
   "metadata": {},
   "outputs": [],
   "source": [
    "dot_data = StringIO()\n",
    "export_graphviz(clf, out_file=dot_data,  \n",
    "                filled=True, rounded=True,\n",
    "                special_characters=True, feature_names = feature_cols,class_names=['0', '1', '2', '3', '4', '5'])\n",
    "graph = pydotplus.graph_from_dot_data(dot_data.getvalue())  \n",
    "graph.write_png('tree.png')\n",
    "Image(graph.create_png())"
   ]
  },
  {
   "cell_type": "markdown",
   "id": "bef4c45b",
   "metadata": {},
   "source": [
    "Let's try with three classes at this point ..."
   ]
  },
  {
   "cell_type": "code",
   "execution_count": null,
   "id": "cc1da362",
   "metadata": {},
   "outputs": [],
   "source": [
    "data = {\"score\": students, \"logs\": logs, \"comp_t\": times, \"log_days\":dates, \"pref_work_t\": pref_work_time }\n",
    "df_new = pd.DataFrame(data)\n",
    "\n",
    "def categorize_alternative2(x):\n",
    "    if x >= max_score * 0.9:\n",
    "        return 3\n",
    "    elif x >= max_score * 0.75:\n",
    "        return 2\n",
    "    elif x >= max_score * 0.5:\n",
    "        return 1\n",
    "    else:\n",
    "        return 0\n",
    "\n",
    "df_new['score_category'] = df_new['score'].apply(categorize_alternative2)\n",
    "\n",
    "print(df_new)"
   ]
  },
  {
   "cell_type": "code",
   "execution_count": null,
   "id": "509ee26a",
   "metadata": {},
   "outputs": [],
   "source": [
    "class_distribution=df_standardized['score_category'].value_counts().sort_index()\n",
    "print(class_distribution)"
   ]
  },
  {
   "cell_type": "markdown",
   "id": "2168a4c6",
   "metadata": {},
   "source": [
    "still unbalanced"
   ]
  },
  {
   "cell_type": "code",
   "execution_count": null,
   "id": "dece0ed8",
   "metadata": {},
   "outputs": [],
   "source": [
    "# Class distribution\n",
    "import matplotlib.pyplot as plt\n",
    "\n",
    "plt.figure(figsize=(8, 6))\n",
    "class_distribution.plot(kind='bar', color='skyblue')\n",
    "plt.title('Class Distribution')\n",
    "plt.xlabel('Score Category')\n",
    "plt.ylabel('Count')\n",
    "plt.xticks(rotation=0)\n",
    "plt.show()"
   ]
  },
  {
   "cell_type": "code",
   "execution_count": null,
   "id": "209f3943",
   "metadata": {},
   "outputs": [],
   "source": [
    "from sklearn.preprocessing import StandardScaler\n",
    "\n",
    "def standardize_columns(df, columns):\n",
    "    scaler = StandardScaler()\n",
    "    df_std = df.copy()\n",
    "    df_std[columns] = scaler.fit_transform(df_std[columns])\n",
    "    \n",
    "    return df_std\n",
    "\n",
    "df_standardized = standardize_columns(df_new, ['logs', 'comp_t', 'log_days', 'pref_work_t'])"
   ]
  },
  {
   "cell_type": "code",
   "execution_count": null,
   "id": "4c9a8431",
   "metadata": {},
   "outputs": [],
   "source": [
    "df_standardized"
   ]
  },
  {
   "cell_type": "code",
   "execution_count": null,
   "id": "139a3a8b",
   "metadata": {},
   "outputs": [],
   "source": [
    "from imblearn.over_sampling import SMOTE\n",
    "from sklearn.model_selection import train_test_split\n",
    "from sklearn.tree import DecisionTreeClassifier\n",
    "from sklearn.metrics import f1_score\n",
    "\n",
    "feature_cols = ['logs', 'comp_t', 'log_days', 'pref_work_t' ]\n",
    "X = df_standardized[feature_cols]\n",
    "y = df_standardized.score_category \n",
    "\n",
    "X_train, X_test, y_train, y_test = train_test_split(X, y, test_size=0.2, random_state=4)\n",
    "\n",
    "smote = SMOTE(k_neighbors=2, sampling_strategy='minority',\n",
    "               random_state=42) # oversampling\n",
    "\n",
    "# oversampling of the training data\n",
    "X_train_resampled, y_train_resampled = smote.fit_resample(X_train, y_train)"
   ]
  },
  {
   "cell_type": "code",
   "execution_count": null,
   "id": "9afc83d7",
   "metadata": {},
   "outputs": [],
   "source": [
    "# HYPERPARAMETER TUNING\n",
    "from sklearn.metrics import make_scorer, log_loss\n",
    "from sklearn.model_selection import GridSearchCV\n",
    "\n",
    "param_grid = {\n",
    "    'criterion': ['gini', 'entropy'],\n",
    "    'max_leaf_nodes': [5, 10, 15, 20, 35],\n",
    "    'min_samples_leaf': [int(0.01 * len(X_train)), int(0.05 * len(X_train)), int(0.1 * len(X_train))],\n",
    "    'max_depth': [10, 15, 20, 25]\n",
    "}\n",
    "\n",
    "scorer = make_scorer(log_loss, greater_is_better=False, needs_proba=True)\n",
    "\n",
    "grid_search = GridSearchCV(estimator=clf, param_grid=param_grid, cv=3, scoring=scorer)\n",
    "grid_search.fit(X_train, y_train)\n",
    "\n",
    "best_params = grid_search.best_params_\n",
    "print(\"Best hyperparameters:\", best_params)"
   ]
  },
  {
   "cell_type": "code",
   "execution_count": null,
   "id": "3e3c0811",
   "metadata": {},
   "outputs": [],
   "source": [
    "max_leaf_nodes = best_params['max_leaf_nodes']\n",
    "min_sample_leaf = best_params['min_samples_leaf']\n",
    "max_depth = best_params['max_depth']\n",
    "\n",
    "clf = DecisionTreeClassifier(criterion=best_params['criterion'], \n",
    "                             max_leaf_nodes = max_leaf_nodes,\n",
    "                             min_samples_leaf = min_sample_leaf, \n",
    "                             max_depth= max_depth)\n",
    "\n",
    "clf.fit(X_train_resampled, y_train_resampled)\n",
    "\n",
    "y_pred = clf.predict(X_test)"
   ]
  },
  {
   "cell_type": "code",
   "execution_count": null,
   "id": "b1ff6889",
   "metadata": {},
   "outputs": [],
   "source": [
    "# evaluation metric: F1-score\n",
    "f1 = f1_score(y_test, y_pred, average='micro')\n",
    "print(\"F1-score:\", f1)"
   ]
  },
  {
   "cell_type": "code",
   "execution_count": null,
   "id": "4d184a5f",
   "metadata": {},
   "outputs": [],
   "source": [
    "dot_data = StringIO()\n",
    "export_graphviz(clf, out_file=dot_data,  \n",
    "                filled=True, rounded=True,\n",
    "                special_characters=True, feature_names = feature_cols,class_names=['0', '1', '2', '3'])\n",
    "graph = pydotplus.graph_from_dot_data(dot_data.getvalue())  \n",
    "graph.write_png('tree.png')\n",
    "Image(graph.create_png())"
   ]
  },
  {
   "cell_type": "markdown",
   "id": "82d1159d",
   "metadata": {},
   "source": [
    "I saw in methods that is a good idea to make a comparison between two different models... Maybe I'll try here to fit a linear regression and see what happens..."
   ]
  },
  {
   "cell_type": "code",
   "execution_count": null,
   "id": "1296ed68",
   "metadata": {},
   "outputs": [],
   "source": [
    "import statsmodels.formula.api as smf\n",
    "\n",
    "model = smf.ols('score ~ logs + comp_t + log_days + pref_work_t', data=df_new).fit()\n",
    "\n",
    "print(model.summary())\n"
   ]
  },
  {
   "cell_type": "markdown",
   "id": "86cbe893",
   "metadata": {},
   "source": [
    "OK\n",
    "R-squared: 0.168 is terrible, because it represents the proportion of the variance in the dependent variable that is explained by the independent variables in the model (goodness of fit of the model to the data) -> with this model we are explaining just the 16.8% of the variance.\n",
    "The remaining 83.2% of the variability is unexplained by the model and could be due to other factors not considered in the model or random variability.\n",
    "\n",
    "To identify the significant coefficients: we have to look at small values of P>|t|. Therefore, logs is the only significant feature in this model (maybe we can also consider comp_t...)"
   ]
  },
  {
   "cell_type": "code",
   "execution_count": null,
   "id": "dd44f3d5",
   "metadata": {},
   "outputs": [],
   "source": [
    "model = smf.gls('score ~ logs + comp_t', data=df_new).fit()\n",
    "\n",
    "print(model.summary())"
   ]
  },
  {
   "cell_type": "markdown",
   "id": "08bf1d1e",
   "metadata": {},
   "source": [
    "logs+comp_t explained 16.3% of the variance: these two features are the only ones that are significant"
   ]
  },
  {
   "cell_type": "code",
   "execution_count": null,
   "id": "133f0930",
   "metadata": {},
   "outputs": [],
   "source": [
    "model = smf.gls('score ~ logs', data=df_new).fit()\n",
    "\n",
    "print(model.summary())"
   ]
  },
  {
   "cell_type": "markdown",
   "id": "ceff11ce",
   "metadata": {},
   "source": [
    "Just using logs we explained 14.6% of the variance. It's anyway a bad model but at least it's simple lol"
   ]
  },
  {
   "cell_type": "markdown",
   "id": "6e229ad0",
   "metadata": {},
   "source": [
    "Another variable that we could consider: the duration between timestamps"
   ]
  },
  {
   "cell_type": "code",
   "execution_count": null,
   "id": "cf9b87eb",
   "metadata": {},
   "outputs": [],
   "source": [
    "df"
   ]
  },
  {
   "cell_type": "code",
   "execution_count": null,
   "id": "48983c8e",
   "metadata": {},
   "outputs": [],
   "source": [
    "df1 = df\n",
    "df1.sort_values(by=['student_id', 'Aika'], inplace=True)"
   ]
  },
  {
   "cell_type": "code",
   "execution_count": null,
   "id": "559c1115",
   "metadata": {},
   "outputs": [],
   "source": [
    "total_durations = {}\n",
    "k=0\n",
    "for student_id, group in df.groupby('student_id'):\n",
    "    total_duration = group['Aika'].diff().sum()\n",
    "    total_durations[student_id] = total_duration.total_seconds()\n",
    "total_durations"
   ]
  },
  {
   "cell_type": "code",
   "execution_count": null,
   "id": "804af667",
   "metadata": {},
   "outputs": [],
   "source": [
    "timestamp_counts = df['student_id'].value_counts()\n",
    "timestamp_counts"
   ]
  },
  {
   "cell_type": "code",
   "execution_count": null,
   "id": "5aa15002",
   "metadata": {},
   "outputs": [],
   "source": [
    "df_merged = pd.DataFrame({'total_duration': total_durations, 'timestamp_count': timestamp_counts})\n",
    "df_merged.index = df_merged.index.astype(int)\n",
    "df_merged['average_duration'] = df_merged['total_duration'] / df_merged['timestamp_count']\n",
    "\n",
    "df_merged=df_merged.sort_index()\n",
    "df_merged\n"
   ]
  },
  {
   "cell_type": "code",
   "execution_count": null,
   "id": "9b7a1b73",
   "metadata": {},
   "outputs": [],
   "source": [
    "data = {\"score\": students, \"logs\": logs, \"comp_t\": times, \"log_days\":dates, \"pref_work_t\": pref_work_time, 'average_duration': df_merged['average_duration']}\n",
    "df_new3 = pd.DataFrame(data)\n",
    "df_new3"
   ]
  },
  {
   "cell_type": "code",
   "execution_count": null,
   "id": "ea3b67e5",
   "metadata": {},
   "outputs": [],
   "source": [
    "model = smf.gls('score ~ logs + comp_t + log_days + pref_work_t + average_duration', data=df_new3).fit()\n",
    "\n",
    "print(model.summary())"
   ]
  },
  {
   "cell_type": "code",
   "execution_count": null,
   "id": "5d71737e",
   "metadata": {},
   "outputs": [],
   "source": [
    "model = smf.gls('score ~ logs + comp_t + average_duration', data=df_new3).fit()\n",
    "\n",
    "print(model.summary())"
   ]
  },
  {
   "cell_type": "markdown",
   "id": "dffa2c6c",
   "metadata": {},
   "source": [
    "rip\n",
    "\n",
    "if you have some other ideas of feature that we can try to extract let me know hahah"
   ]
  }
 ],
 "metadata": {
  "kernelspec": {
   "display_name": "Python 3 (ipykernel)",
   "language": "python",
   "name": "python3"
  },
  "language_info": {
   "codemirror_mode": {
    "name": "ipython",
    "version": 3
   },
   "file_extension": ".py",
   "mimetype": "text/x-python",
   "name": "python",
   "nbconvert_exporter": "python",
   "pygments_lexer": "ipython3",
   "version": "3.11.5"
  }
 },
 "nbformat": 4,
 "nbformat_minor": 5
}
